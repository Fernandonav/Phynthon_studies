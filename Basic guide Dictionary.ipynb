{
 "cells": [
  {
   "cell_type": "markdown",
   "metadata": {},
   "source": [
    "# Dictionary https://realpython.com/python-dicts/#dvalues"
   ]
  },
  {
   "cell_type": "code",
   "execution_count": 1,
   "metadata": {},
   "outputs": [],
   "source": [
    "# Inside dictionary we have 2 parts, Key and value #\n",
    "\n",
    "Moon_phases = {\"Phase 1\": \"New moon\", \"Phase 2\":\"Waxing crescent\",  \"Phase 3\": \"Waxing gibbous\", \"Phase 4\": \"Full Moon\" }"
   ]
  },
  {
   "cell_type": "code",
   "execution_count": 2,
   "metadata": {},
   "outputs": [
    {
     "data": {
      "text/plain": [
       "'Full Moon'"
      ]
     },
     "execution_count": 2,
     "metadata": {},
     "output_type": "execute_result"
    }
   ],
   "source": [
    "# How to access to a value from the dictionary\n",
    "Moon_phases[\"Phase 4\"]"
   ]
  },
  {
   "cell_type": "code",
   "execution_count": 3,
   "metadata": {},
   "outputs": [
    {
     "data": {
      "text/plain": [
       "dict_items([('Phase 1', 'New moon'), ('Phase 2', 'Waxing crescent'), ('Phase 3', 'Waxing gibbous'), ('Phase 4', 'Full Moon')])"
      ]
     },
     "execution_count": 3,
     "metadata": {},
     "output_type": "execute_result"
    }
   ],
   "source": [
    "# With items returns a list of pair keys and values in a dictionary #\n",
    "Moon_phases.items()"
   ]
  },
  {
   "cell_type": "code",
   "execution_count": 4,
   "metadata": {},
   "outputs": [
    {
     "data": {
      "text/plain": [
       "dict_keys(['Phase 1', 'Phase 2', 'Phase 3', 'Phase 4'])"
      ]
     },
     "execution_count": 4,
     "metadata": {},
     "output_type": "execute_result"
    }
   ],
   "source": [
    "# With key returns a list of keys in a dictionary #\n",
    "Moon_phases.keys()"
   ]
  },
  {
   "cell_type": "code",
   "execution_count": 5,
   "metadata": {},
   "outputs": [
    {
     "data": {
      "text/plain": [
       "dict_values(['New moon', 'Waxing crescent', 'Waxing gibbous', 'Full Moon'])"
      ]
     },
     "execution_count": 5,
     "metadata": {},
     "output_type": "execute_result"
    }
   ],
   "source": [
    "# With value returns a list of values in a dictionary #\n",
    "Moon_phases.values()"
   ]
  },
  {
   "cell_type": "code",
   "execution_count": 6,
   "metadata": {},
   "outputs": [
    {
     "name": "stdout",
     "output_type": "stream",
     "text": [
      "{'Phase 2': 'Waxing crescent', 'Phase 3': 'Waxing gibbous', 'Phase 4': 'Full Moon'}\n",
      "{'Phase 3': 'Waxing gibbous', 'Phase 4': 'Full Moon'}\n",
      "{'Phase 3': 'Waxing gibbous'}\n"
     ]
    }
   ],
   "source": [
    "#to delete a pair inside dictionary we uso pop or del, we can also use popitem to delete de last value added to the list \n",
    "# and returns it as a tuple#\n",
    "Moon_phases.pop('Phase 1')\n",
    "print(Moon_phases)\n",
    "del(Moon_phases['Phase 2'])\n",
    "print(Moon_phases)\n",
    "Moon_phases.popitem()\n",
    "print(Moon_phases)"
   ]
  },
  {
   "cell_type": "code",
   "execution_count": 7,
   "metadata": {},
   "outputs": [
    {
     "data": {
      "text/plain": [
       "{}"
      ]
     },
     "execution_count": 7,
     "metadata": {},
     "output_type": "execute_result"
    }
   ],
   "source": [
    "# empties dictionary of all key-value pairs:\n",
    "Moon_phases.clear()\n",
    "Moon_phases"
   ]
  },
  {
   "cell_type": "code",
   "execution_count": 8,
   "metadata": {},
   "outputs": [
    {
     "name": "stdout",
     "output_type": "stream",
     "text": [
      "{'Phase 1': 'New moon'}\n"
     ]
    }
   ],
   "source": [
    "# add values to dictionary :\n",
    "Moon_phases[\"Phase 1\"] = \"New moon\"\n",
    "print(Moon_phases)\n"
   ]
  }
 ],
 "metadata": {
  "kernelspec": {
   "display_name": "Python 3",
   "language": "python",
   "name": "python3"
  },
  "language_info": {
   "codemirror_mode": {
    "name": "ipython",
    "version": 3
   },
   "file_extension": ".py",
   "mimetype": "text/x-python",
   "name": "python",
   "nbconvert_exporter": "python",
   "pygments_lexer": "ipython3",
   "version": "3.8.5"
  }
 },
 "nbformat": 4,
 "nbformat_minor": 4
}
