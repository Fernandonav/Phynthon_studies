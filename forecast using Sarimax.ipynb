{
 "cells": [
  {
   "cell_type": "code",
   "execution_count": null,
   "metadata": {},
   "outputs": [],
   "source": [
    "import pandas as pd\n",
    "import numpy as np\n",
    "import matplotlib as mpl\n",
    "import matplotlib.pyplot as plt\n",
    "%matplotlib inline\n",
    "import seaborn as sns\n",
    "import scipy.stats as st\n",
    "import plotly.graph_objects as go\n",
    "import missingno as msno\n",
    "from sklearn import preprocessing\n",
    "from sklearn.metrics import f1_score, confusion_matrix,accuracy_score, classification_report\n",
    "from scipy import stats\n",
    "import datetime\n",
    "from datetime import date\n",
    "from dateutil.relativedelta import relativedelta\n",
    "from isoweek import Week\n",
    "from matplotlib import pyplot as plt\n",
    "import numpy as np\n",
    "import pandas as pd\n",
    "from sklearn.linear_model import LinearRegression\n",
    "%matplotlib inline\n",
    "data = pd.read_csv('data.csv')"
   ]
  },
  {
   "cell_type": "code",
   "execution_count": null,
   "metadata": {},
   "outputs": [],
   "source": [
    "# creating dates from year and week of the year of the data\n",
    "data[\"date\"] = 0\n",
    "for i in data.index:\n",
    "\n",
    "    input_year = data[\"Year\"].iloc[i]\n",
    "    input_week = int(data[\"Week of Year\"].iloc[i])\n",
    "\n",
    "    d = Week(input_year,input_week).monday()\n",
    "    \n",
    "    data[\"date\"].iloc[i] = d"
   ]
  },
  {
   "cell_type": "code",
   "execution_count": null,
   "metadata": {},
   "outputs": [],
   "source": [
    "#then we dont need this again\n",
    "del data['Year']\n",
    "del data['Week of Year']"
   ]
  },
  {
   "cell_type": "code",
   "execution_count": null,
   "metadata": {},
   "outputs": [],
   "source": [
    "#using date as index\n",
    "data = data.set_index('date')\n",
    "data= data.sort_index()"
   ]
  },
  {
   "cell_type": "code",
   "execution_count": null,
   "metadata": {},
   "outputs": [],
   "source": [
    "train = data[data.index < pd.to_datetime(\"2022-01-01\", format='%Y-%m-%d')]\n",
    "test = data[data.index > pd.to_datetime(\"2022-01-01\", format='%Y-%m-%d')]\n",
    "\n",
    "plt.plot(train, color = \"black\")\n",
    "plt.plot(test, color = \"red\")\n",
    "plt.ylabel('Orders')\n",
    "plt.xlabel('Date')\n",
    "plt.xticks(rotation=45)\n",
    "plt.title(\"Train/Test split for order\")\n",
    "plt.show()"
   ]
  },
  {
   "cell_type": "code",
   "execution_count": null,
   "metadata": {},
   "outputs": [],
   "source": [
    "#plot the info\n",
    "import matplotlib.pyplot as plt\n",
    "import seaborn as sns\n",
    "\n",
    "sns.set()\n",
    "\n",
    "plt.ylabel('Orders')\n",
    "plt.xlabel('date')\n",
    "plt.xticks(rotation=45)\n",
    "\n",
    "plt.plot(data.index, data['Orders'], )"
   ]
  },
  {
   "cell_type": "code",
   "execution_count": null,
   "metadata": {},
   "outputs": [],
   "source": [
    "import pmdarima\n",
    "from pmdarima import auto_arima \n",
    "auto_arima(data['Orders'], seasonal=True, m=52,max_p=7, max_d=5,max_q=7, max_P=4, max_D=4,max_Q=4).summary()"
   ]
  },
  {
   "cell_type": "code",
   "execution_count": null,
   "metadata": {},
   "outputs": [],
   "source": [
    "from statsmodels.tsa.statespace.sarimax import SARIMAX\n",
    "arima_model = SARIMAX(train['Orders'], order = (1,0,0))\n",
    "arima_result = arima_model.fit()\n",
    "arima_result.summary()"
   ]
  },
  {
   "cell_type": "code",
   "execution_count": null,
   "metadata": {},
   "outputs": [],
   "source": [
    "arima_pred = arima_result.predict(start = len(train), end = len(data)-1, typ=\"linear\").rename(\"ARIMA Predictions\")\n",
    "arima_pred"
   ]
  },
  {
   "cell_type": "code",
   "execution_count": null,
   "metadata": {},
   "outputs": [],
   "source": [
    "arima_pred.index = test.index\n",
    "test['Orders'].plot(figsize = (16,5), legend=True)\n",
    "arima_pred.plot(legend = True);"
   ]
  }
 ],
 "metadata": {
  "kernelspec": {
   "display_name": "Python 3",
   "language": "python",
   "name": "python3"
  },
  "language_info": {
   "codemirror_mode": {
    "name": "ipython",
    "version": 3
   },
   "file_extension": ".py",
   "mimetype": "text/x-python",
   "name": "python",
   "nbconvert_exporter": "python",
   "pygments_lexer": "ipython3",
   "version": "3.8.5"
  }
 },
 "nbformat": 4,
 "nbformat_minor": 4
}
